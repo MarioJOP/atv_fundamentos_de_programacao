{
  "nbformat": 4,
  "nbformat_minor": 0,
  "metadata": {
    "colab": {
      "provenance": [],
      "authorship_tag": "ABX9TyMi8qYL/vF8mCO5pu/JAN28",
      "include_colab_link": true
    },
    "kernelspec": {
      "name": "python3",
      "display_name": "Python 3"
    },
    "language_info": {
      "name": "python"
    }
  },
  "cells": [
    {
      "cell_type": "markdown",
      "metadata": {
        "id": "view-in-github",
        "colab_type": "text"
      },
      "source": [
        "<a href=\"https://colab.research.google.com/github/MarioJOP/atv_fundamentos_de_programacao/blob/main/Atividade002.ipynb\" target=\"_parent\"><img src=\"https://colab.research.google.com/assets/colab-badge.svg\" alt=\"Open In Colab\"/></a>"
      ]
    },
    {
      "cell_type": "code",
      "execution_count": 8,
      "metadata": {
        "colab": {
          "base_uri": "https://localhost:8080/"
        },
        "id": "j1X1UaiLivjk",
        "outputId": "a6499a7b-c189-4315-9971-a9f4ec423ae5"
      },
      "outputs": [
        {
          "output_type": "stream",
          "name": "stdout",
          "text": [
            "['hallway', 11.25, 'kitchen', 18.0, 'chill zone', 20.0, 'bedroom', 10.75, 'bathroom', 10.5, ['poolhouse', 24.5]]\n",
            "['hallway', 11.25, 'kitchen', 18.0, 'chill zone', 20.0, 'bedroom', 10.75, 'bathroom', 10.5, ['poolhouse', 24.5], ['garage', 15.5]]\n"
          ]
        }
      ],
      "source": [
        "#Resgatando a variavel area e fazendo algumas mudanças:\n",
        "areas = [\"hallway\", 11.25, \"kitchen\", \n",
        "18.0, \"chill zone\",  20.0, \"bedroom\", 10.75, \"bathroom\", 10.50]\n",
        "\n",
        "#Criando uma lista que contém todos os elementos de areas e outra lista: ['pull house', 24.5]:\n",
        "areas_1 = areas + [['poolhouse', 24.5]]\n",
        "\n",
        "#Criando outra lista que contém todos os elementos de areas_1 e outra lista: ['garage', 15.5]:\n",
        "areas_2 = areas_1 + [['garage', 15.5]]\n",
        "\n",
        "#Print de areas_1:\n",
        "print(areas_1)\n",
        "\n",
        "#Print de areas_2:\n",
        "print(areas_2)"
      ]
    },
    {
      "cell_type": "code",
      "source": [
        "#Resgatando a variavel area e fazendo algumas mudanças:\n",
        "areas = [ 11.25, 18.0,  20.0,  10.75, 9.50]\n",
        "\n",
        "#Criando cópia da lista areas:\n",
        "areas_copy = areas\n",
        "\n",
        "#Mundando algum valor em areas_copy:\n",
        "areas_copy[0] = 5\n",
        "\n",
        "#Print de areas:\n",
        "print(areas)\n",
        "#Percebe-se que a mudança em areas_copy também foi feita em areas"
      ],
      "metadata": {
        "colab": {
          "base_uri": "https://localhost:8080/"
        },
        "id": "0hC9QFaAkZAu",
        "outputId": "81e55595-736f-42ea-afb6-cdd9ebe74f00"
      },
      "execution_count": 21,
      "outputs": [
        {
          "output_type": "stream",
          "name": "stdout",
          "text": [
            "[5, 18.0, 20.0, 10.75, 9.5]\n"
          ]
        }
      ]
    },
    {
      "cell_type": "code",
      "source": [
        "#Para a correção desse erro, usaremos o metodo: area_copy = areas[:]\n",
        "areas_copy = areas[:]\n",
        "\n",
        "##Mundando novamente  algum valor em areas_copy:\n",
        "areas_copy[0] = 10\n",
        "\n",
        "#Print de areas:\n",
        "print(areas)\n",
        "#Percebemos agora que a mudança em areas_copy não ocorreu em areas"
      ],
      "metadata": {
        "colab": {
          "base_uri": "https://localhost:8080/"
        },
        "id": "ozUVxQoflKTY",
        "outputId": "f86e887a-007e-4978-9be5-4e5629402e70"
      },
      "execution_count": 25,
      "outputs": [
        {
          "output_type": "stream",
          "name": "stdout",
          "text": [
            "[5, 18.0, 20.0, 10.75, 9.5]\n"
          ]
        }
      ]
    }
  ]
}