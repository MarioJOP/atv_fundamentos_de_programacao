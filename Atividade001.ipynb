{
  "cells": [
    {
      "cell_type": "markdown",
      "metadata": {
        "id": "hQZSWBJlsdAn"
      },
      "source": [
        "1) Elabore um código em que existe as variáveis : aluno, nota1, nota2,nota3, media. Neste código você deve escolher uma string para a variável aluno, float para cada nota. Pesquise o cálculo da média aritmética e aplique o resuldado do cálculo na variável media. Por fim, usando o comando print, mostre o nome do aluno ao lado de sua media. Use a função print para mostrar o tipo da variável aluno e tipo da variável media."
      ]
    },
    {
      "cell_type": "code",
      "execution_count": 1,
      "metadata": {
        "id": "0oJOVsXEsqvW"
      },
      "outputs": [
        {
          "name": "stdout",
          "output_type": "stream",
          "text": [
            "Mário:  6.833333333333333\n",
            "<class 'str'>\n",
            "<class 'float'>\n"
          ]
        }
      ],
      "source": [
        "#Resposta\n",
        "aluno = \"Mário\"\n",
        "nota1 = 5.5\n",
        "nota2 = 8.0\n",
        "nota3 =  7.0\n",
        "media = (nota1+nota2+nota3)/3\n",
        "#exibição da variável media\n",
        "print(\"Mário: \", media) \n",
        "#exibição do tipo da variavel aluno\n",
        "print(type(aluno))\n",
        "#exibição do tipo da variavel media\n",
        "print(type(media))"
      ]
    },
    {
      "cell_type": "markdown",
      "metadata": {
        "id": "MQNGFrLrt59F"
      },
      "source": [
        "2) ELabore um código que realiza a concatenção de strings para formar um nome. Ao fim, exiba, através do comando print, o nome concatenado (nome_completo). "
      ]
    },
    {
      "cell_type": "code",
      "execution_count": 2,
      "metadata": {
        "id": "agNgURZovQAO"
      },
      "outputs": [
        {
          "name": "stdout",
          "output_type": "stream",
          "text": [
            "José Mário\n"
          ]
        }
      ],
      "source": [
        "#RESPOSTA\n",
        "nome = \"José \"\n",
        "sobrenome = \"Mário\"\n",
        "nome_completo = nome+sobrenome\n",
        "#exibição do nome concatenado\n",
        "print(nome_completo)"
      ]
    },
    {
      "cell_type": "markdown",
      "metadata": {
        "id": "Jvb8nt2-vkyk"
      },
      "source": [
        "3) Elabore um código em que seja criada uma lista de alimentos em forma de string. Nesta lista você deve escolher  10 alimentos.\n",
        "* a) realize o print do último alimento usando index negativo\n",
        "* b) realize o print do quarto elemento da lista\n",
        "* c) realize o print dos 5 primeiros elementos da lista\n",
        "* d) realize o print do 3 ultimos elementos da lista\n",
        "* e) realize o print do terceiro até o sétimo elemento da lista\n"
      ]
    },
    {
      "cell_type": "code",
      "execution_count": 3,
      "metadata": {
        "id": "Ej916hE4x3vr"
      },
      "outputs": [
        {
          "name": "stdout",
          "output_type": "stream",
          "text": [
            "Macarrão\n",
            "Coxinha\n",
            "['Batata', 'Maçã', 'Uva', 'Coxinha', 'Bolo']\n",
            "['Pão', 'Sushi', 'Macarrão']\n",
            "['Uva', 'Coxinha', 'Bolo', 'Goiaba', 'Miojo']\n"
          ]
        }
      ],
      "source": [
        "#Resposta\n",
        "lista_de_alimentos = [\"Batata\", \"Maçã\", \"Uva\", \"Coxinha\", \"Bolo\", \"Goiaba\", \"Miojo\", \"Pão\", \"Sushi\", \"Macarrão\"]\n",
        "#item a\n",
        "print(lista_de_alimentos[-1])\n",
        "#item b\n",
        "print(lista_de_alimentos[3])\n",
        "#item c\n",
        "print(lista_de_alimentos[:5])\n",
        "#item d\n",
        "print(lista_de_alimentos[-3:])\n",
        "#item e\n",
        "print(lista_de_alimentos[2:7])"
      ]
    },
    {
      "cell_type": "markdown",
      "metadata": {
        "id": "VBEp3lBnyQyt"
      },
      "source": [
        "4) Adapte a lista de alimentos criada na questão 3 para incluir o preço da cada alimento. Após cada string você deve incluir um valor numérico que representa o preço do alimento\n",
        "* a) Crie uma variavel `gasto_total` que recebe a soma de todos os preços, acessando a lista pelos indexes.\n",
        "* b) mostre via print o valor da variável `gasto_total`\n",
        "* c) crie uma nova lista chamada `alimentos_mais_caros` que contem os 3 alimentos mais caros. Nessa lista deve conter os alimentos com valor ao lado. a inclusão dos elementos na lista deve ser via index. Ex: `lista_nova = [lista_antiga[2],lista_antiga[3]...]`\n",
        "* d) mostre via print a lista `alimentos_mais_caros`"
      ]
    },
    {
      "cell_type": "code",
      "execution_count": 18,
      "metadata": {
        "id": "UA1X8iq71Die"
      },
      "outputs": [
        {
          "name": "stdout",
          "output_type": "stream",
          "text": [
            "51.5\n",
            "['Sushi', 15, 'Bolo', 12, 'Coxinha', 5]\n"
          ]
        }
      ],
      "source": [
        "#resposta\n",
        "lista_de_alimentos_com_preco = [\"Batata\", 3, \"Maçã\", 4, \"Uva\", 2, \"Coxinha\", 5, \"Bolo\", 12,\n",
        "                                 \"Goiaba\", 3, \"Miojo\", 3.5, \"Pão\", 2, \"Sushi\", 15, \"Macarrão\", 2]\n",
        "#item a\n",
        "gasto_total = (lista_de_alimentos_com_preco[1]\n",
        "               +lista_de_alimentos_com_preco[3]\n",
        "               +lista_de_alimentos_com_preco[5]\n",
        "               +lista_de_alimentos_com_preco[7]\n",
        "               +lista_de_alimentos_com_preco[9]\n",
        "               +lista_de_alimentos_com_preco[11]\n",
        "               +lista_de_alimentos_com_preco[13]\n",
        "               +lista_de_alimentos_com_preco[15]\n",
        "               +lista_de_alimentos_com_preco[17]\n",
        "               +lista_de_alimentos_com_preco[19])\n",
        "#item b\n",
        "print(gasto_total)\n",
        "#item c\n",
        "alimentos_mais_caros = [lista_de_alimentos_com_preco[-4], lista_de_alimentos_com_preco[-3], lista_de_alimentos_com_preco[8], lista_de_alimentos_com_preco[9], lista_de_alimentos_com_preco[6], lista_de_alimentos_com_preco[7] ]\n",
        "#item d\n",
        "print(alimentos_mais_caros)"
      ]
    },
    {
      "cell_type": "markdown",
      "metadata": {
        "id": "nqp01e8g16FG"
      },
      "source": [
        "5) Adpate a lista de alimentos criada na questão 4. Agora a estrutura deve ser uma lista de listas. cada elemento com preço deve ser um lista, ou seja, a lista de alimentos deve conter 5 listas, em que cada lista possui um alimento e seu preço.\n",
        "* a) Crie uma variável `lista3` para ammazenar a terceiira lista contida na lista de alimentos. \n",
        "* b) Exiba a variável `lista3` \n",
        "* c) Crie uma variável `lista2a4` para armazenar da segunda até a quarta lista contida na lsita de alimentos.\n",
        "* d) Acessando os indexes da lista de alimentos no modo exemplo `lista[id1][id2]` realize os prints:\n",
        "** d1) do preço do terceiro alimento da lista\n",
        "** d2) do alimento da quarta lista\n",
        "** d3) do preço do quinto elemento da lista\n",
        "** d4) do alimento da primeira lista."
      ]
    },
    {
      "cell_type": "code",
      "execution_count": 5,
      "metadata": {
        "id": "XTOqNZ1a4s-H"
      },
      "outputs": [
        {
          "name": "stdout",
          "output_type": "stream",
          "text": [
            "['Uva', 2]\n",
            "2\n",
            "Coxinha\n",
            "12\n",
            "Batata\n"
          ]
        }
      ],
      "source": [
        "#resposta\n",
        "lista_de_alimentos_adaptada = [[\"Batata\", 3], [\"Maçã\", 4], [\"Uva\", 2], [\"Coxinha\", 5], [\"Bolo\", 12],\n",
        "                                 [\"Goiaba\", 3], [\"Miojo\", 3.5], [\"Pão\", 2], [\"Sushi\", 15], [\"Macarrão\", 2]]\n",
        "#item a\n",
        "lista3 = lista_de_alimentos_adaptada[2]\n",
        "#item b\n",
        "print(lista3)\n",
        "#item c\n",
        "lista2a4 = lista_de_alimentos_adaptada[1:4]\n",
        "#item d1\n",
        "print(lista_de_alimentos_adaptada[2][1])\n",
        "#item d2\n",
        "print(lista_de_alimentos_adaptada[3][0])\n",
        "#item d3\n",
        "print(lista_de_alimentos_adaptada[4][1])\n",
        "#item d4\n",
        "print(lista_de_alimentos_adaptada[0][0])"
      ]
    }
  ],
  "metadata": {
    "colab": {
      "provenance": []
    },
    "kernelspec": {
      "display_name": "Python 3",
      "name": "python3"
    },
    "language_info": {
      "codemirror_mode": {
        "name": "ipython",
        "version": 3
      },
      "file_extension": ".py",
      "mimetype": "text/x-python",
      "name": "python",
      "nbconvert_exporter": "python",
      "pygments_lexer": "ipython3",
      "version": "3.11.1"
    }
  },
  "nbformat": 4,
  "nbformat_minor": 0
}
